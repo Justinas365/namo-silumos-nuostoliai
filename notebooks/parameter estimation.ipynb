{
 "cells": [
  {
   "cell_type": "code",
   "execution_count": 15,
   "id": "destroyed-knowing",
   "metadata": {},
   "outputs": [],
   "source": [
    "from fitter import Fitter"
   ]
  },
  {
   "cell_type": "code",
   "execution_count": 31,
   "id": "declared-contents",
   "metadata": {},
   "outputs": [
    {
     "name": "stdout",
     "output_type": "stream",
     "text": [
      "2021-07-30 15:33:22,785 - kedro.io.data_catalog - INFO - Loading data from `preprocessed_pecius` (CSVDataSet)...\n",
      "       Data Matavimas    Laikas  Lauko temperatura  lauko_temp_patikslinta  \\\n",
      "0  20210118    Pirmas  14:45:00              -11.0                   -13.0   \n",
      "1  20210118    Antras  18:00:00              -11.0                   -12.0   \n",
      "\n",
      "   IN  OUT  Delta  Wind_mph  Humidity_percent  Barometer_mbar  \\\n",
      "0  51   64     13       5.0              72.0          1020.0   \n",
      "1  40   46      6       5.0              72.0          1020.0   \n",
      "\n",
      "   delta_skirtumas  joules      watts  wind_kph  \n",
      "0               13  273000  75.833333     8.045  \n",
      "1                6  126000  35.000000     8.045  \n",
      "(27, 15)\n"
     ]
    },
    {
     "name": "stderr",
     "output_type": "stream",
     "text": [
      "C:\\Users\\SVEDU\\anaconda3\\lib\\site-packages\\ipykernel\\ipkernel.py:287: DeprecationWarning: `should_run_async` will not call `transform_cell` automatically in the future. Please pass the result to `transformed_cell` argument and any exception that happen during thetransform in `preprocessing_exc_tuple` in IPython 7.17 and above.\n",
      "  and should_run_async(code)\n"
     ]
    }
   ],
   "source": [
    "data = context.io.load(\"preprocessed_pecius\").query('Matavimas != \"Nezinoma\"')\n",
    "print(data.head(2))\n",
    "print(data.shape)\n"
   ]
  },
  {
   "cell_type": "markdown",
   "id": "upper-creativity",
   "metadata": {},
   "source": [
    "## Estimating distribution paramters using Fitter"
   ]
  },
  {
   "cell_type": "code",
   "execution_count": 32,
   "id": "corporate-leather",
   "metadata": {
    "scrolled": false
   },
   "outputs": [
    {
     "name": "stderr",
     "output_type": "stream",
     "text": [
      "C:\\Users\\SVEDU\\anaconda3\\lib\\site-packages\\ipykernel\\ipkernel.py:287: DeprecationWarning: `should_run_async` will not call `transform_cell` automatically in the future. Please pass the result to `transformed_cell` argument and any exception that happen during thetransform in `preprocessing_exc_tuple` in IPython 7.17 and above.\n",
      "  and should_run_async(code)\n"
     ]
    },
    {
     "data": {
      "text/html": [
       "\n",
       "            <div style=\"float: left; border: 1px solid black; width:500px\">\n",
       "              <div id=\"327c87e0-c222-4be3-85d6-7f1220993029\" style=\"background-color:blue; width:0%\">&nbsp;</div>\n",
       "            </div>\n",
       "            <label id=\"a4231aeb-e317-45c7-ad9a-643cf74ae801\" style=\"padding-left: 10px;\" text = \"\"/>\n",
       "            "
      ],
      "text/plain": [
       "<IPython.core.display.HTML object>"
      ]
     },
     "metadata": {},
     "output_type": "display_data"
    },
    {
     "name": "stdout",
     "output_type": "stream",
     "text": [
      "2021-07-30 15:33:43,375 - root - INFO - Fitted norm distribution with error=0.26458173330831325)\n"
     ]
    },
    {
     "name": "stderr",
     "output_type": "stream",
     "text": [
      "C:\\Users\\SVEDU\\anaconda3\\lib\\site-packages\\fitter\\fitter.py:426: DeprecationWarning: isAlive() is deprecated, use is_alive() instead\n",
      "  if it.isAlive():  # pragma: no cover\n"
     ]
    },
    {
     "name": "stdout",
     "output_type": "stream",
     "text": [
      "distribution parameters (35.0, 14.200214453837638)\n"
     ]
    },
    {
     "data": {
      "image/png": "[encoded data removed]",
      "text/plain": [
       "<Figure size 432x288 with 1 Axes>"
      ]
     },
     "metadata": {
      "needs_background": "light"
     },
     "output_type": "display_data"
    }
   ],
   "source": [
    "f = Fitter(data[\"watts\"], distributions=[\"norm\"])\n",
    "f.fit()\n",
    "f.summary()\n",
    "\n",
    "print(\"distribution parameters\", f.fitted_param[\"norm\"])"
   ]
  },
  {
   "cell_type": "code",
   "execution_count": 33,
   "id": "quarterly-salem",
   "metadata": {},
   "outputs": [
    {
     "name": "stdout",
     "output_type": "stream",
     "text": [
      "35.0\n"
     ]
    },
    {
     "name": "stderr",
     "output_type": "stream",
     "text": [
      "C:\\Users\\SVEDU\\anaconda3\\lib\\site-packages\\ipykernel\\ipkernel.py:287: DeprecationWarning: `should_run_async` will not call `transform_cell` automatically in the future. Please pass the result to `transformed_cell` argument and any exception that happen during thetransform in `preprocessing_exc_tuple` in IPython 7.17 and above.\n",
      "  and should_run_async(code)\n"
     ]
    }
   ],
   "source": [
    "print(data[\"watts\"].mean())"
   ]
  },
  {
   "cell_type": "markdown",
   "id": "brilliant-cabinet",
   "metadata": {},
   "source": [
    "## Estimating distribution parameters using statsmodel"
   ]
  },
  {
   "cell_type": "code",
   "execution_count": null,
   "id": "nearby-teaching",
   "metadata": {},
   "outputs": [],
   "source": []
  }
 ],
 "metadata": {
  "kernelspec": {
   "display_name": "NewKedroProject",
   "language": "python",
   "name": "python3"
  },
  "language_info": {
   "codemirror_mode": {
    "name": "ipython",
    "version": 3
   },
   "file_extension": ".py",
   "mimetype": "text/x-python",
   "name": "python",
   "nbconvert_exporter": "python",
   "pygments_lexer": "ipython3",
   "version": "3.8.5"
  },
  "toc": {
   "base_numbering": 1,
   "nav_menu": {},
   "number_sections": false,
   "sideBar": false,
   "skip_h1_title": false,
   "title_cell": "Table of Contents",
   "title_sidebar": "Contents",
   "toc_cell": false,
   "toc_position": {},
   "toc_section_display": false,
   "toc_window_display": false
  }
 },
 "nbformat": 4,
 "nbformat_minor": 5
}
