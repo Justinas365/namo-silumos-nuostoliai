{
 "cells": [
  {
   "cell_type": "code",
   "execution_count": 10,
   "id": "current-appreciation",
   "metadata": {},
   "outputs": [
    {
     "name": "stderr",
     "output_type": "stream",
     "text": [
      "C:\\Users\\SVEDU\\anaconda3\\lib\\site-packages\\ipykernel\\ipkernel.py:287: DeprecationWarning: `should_run_async` will not call `transform_cell` automatically in the future. Please pass the result to `transformed_cell` argument and any exception that happen during thetransform in `preprocessing_exc_tuple` in IPython 7.17 and above.\n",
      "  and should_run_async(code)\n"
     ]
    }
   ],
   "source": [
    "import numpy as np\n",
    "import statsmodels.api as sm\n",
    "from scipy import stats\n",
    "from matplotlib import pyplot as plt\n",
    "\n",
    "plt.rc(\"figure\", figsize=(10,5))\n",
    "plt.rc(\"font\", size=14)"
   ]
  },
  {
   "cell_type": "code",
   "execution_count": 6,
   "id": "placed-november",
   "metadata": {},
   "outputs": [
    {
     "name": "stdout",
     "output_type": "stream",
     "text": [
      "2021-07-31 10:41:07,254 - kedro.io.data_catalog - INFO - Loading data from `preprocessed_pecius` (CSVDataSet)...\n"
     ]
    },
    {
     "data": {
      "text/html": [
       "<div>\n",
       "<style scoped>\n",
       "    .dataframe tbody tr th:only-of-type {\n",
       "        vertical-align: middle;\n",
       "    }\n",
       "\n",
       "    .dataframe tbody tr th {\n",
       "        vertical-align: top;\n",
       "    }\n",
       "\n",
       "    .dataframe thead th {\n",
       "        text-align: right;\n",
       "    }\n",
       "</style>\n",
       "<table border=\"1\" class=\"dataframe\">\n",
       "  <thead>\n",
       "    <tr style=\"text-align: right;\">\n",
       "      <th></th>\n",
       "      <th>Data</th>\n",
       "      <th>Matavimas</th>\n",
       "      <th>Laikas</th>\n",
       "      <th>Lauko temperatura</th>\n",
       "      <th>lauko_temp_patikslinta</th>\n",
       "      <th>IN</th>\n",
       "      <th>OUT</th>\n",
       "      <th>Delta</th>\n",
       "      <th>Wind_mph</th>\n",
       "      <th>Humidity_percent</th>\n",
       "      <th>Barometer_mbar</th>\n",
       "      <th>delta_skirtumas</th>\n",
       "      <th>joules</th>\n",
       "      <th>watts</th>\n",
       "      <th>wind_kph</th>\n",
       "      <th>matavimas_numeric</th>\n",
       "    </tr>\n",
       "  </thead>\n",
       "  <tbody>\n",
       "    <tr>\n",
       "      <th>0</th>\n",
       "      <td>20210118</td>\n",
       "      <td>Pirmas</td>\n",
       "      <td>14:45:00</td>\n",
       "      <td>-11.0</td>\n",
       "      <td>-13.0</td>\n",
       "      <td>51</td>\n",
       "      <td>64</td>\n",
       "      <td>13</td>\n",
       "      <td>5.0</td>\n",
       "      <td>72.0</td>\n",
       "      <td>1020.0</td>\n",
       "      <td>13</td>\n",
       "      <td>273000</td>\n",
       "      <td>75.833333</td>\n",
       "      <td>8.045</td>\n",
       "      <td>0</td>\n",
       "    </tr>\n",
       "    <tr>\n",
       "      <th>1</th>\n",
       "      <td>20210118</td>\n",
       "      <td>Antras</td>\n",
       "      <td>18:00:00</td>\n",
       "      <td>-11.0</td>\n",
       "      <td>-12.0</td>\n",
       "      <td>40</td>\n",
       "      <td>46</td>\n",
       "      <td>6</td>\n",
       "      <td>5.0</td>\n",
       "      <td>72.0</td>\n",
       "      <td>1020.0</td>\n",
       "      <td>6</td>\n",
       "      <td>126000</td>\n",
       "      <td>35.000000</td>\n",
       "      <td>8.045</td>\n",
       "      <td>1</td>\n",
       "    </tr>\n",
       "  </tbody>\n",
       "</table>\n",
       "</div>"
      ],
      "text/plain": [
       "       Data Matavimas    Laikas  Lauko temperatura  lauko_temp_patikslinta  \\\n",
       "0  20210118    Pirmas  14:45:00              -11.0                   -13.0   \n",
       "1  20210118    Antras  18:00:00              -11.0                   -12.0   \n",
       "\n",
       "   IN  OUT  Delta  Wind_mph  Humidity_percent  Barometer_mbar  \\\n",
       "0  51   64     13       5.0              72.0          1020.0   \n",
       "1  40   46      6       5.0              72.0          1020.0   \n",
       "\n",
       "   delta_skirtumas  joules      watts  wind_kph  matavimas_numeric  \n",
       "0               13  273000  75.833333     8.045                  0  \n",
       "1                6  126000  35.000000     8.045                  1  "
      ]
     },
     "execution_count": 6,
     "metadata": {},
     "output_type": "execute_result"
    }
   ],
   "source": [
    "df = context.io.load(\"preprocessed_pecius\").query('Matavimas != \"Nezinoma\"')\n",
    "df[\"matavimas_numeric\"] = df[\"Matavimas\"].apply(lambda x: 0 if x==\"Pirmas\" else 1)\n",
    "df.head(2)"
   ]
  },
  {
   "cell_type": "markdown",
   "id": "dutch-clause",
   "metadata": {},
   "source": [
    "## GLM"
   ]
  },
  {
   "cell_type": "code",
   "execution_count": 11,
   "id": "convertible-hydrogen",
   "metadata": {},
   "outputs": [
    {
     "name": "stdout",
     "output_type": "stream",
     "text": [
      "                 Generalized Linear Model Regression Results                  \n",
      "==============================================================================\n",
      "Dep. Variable:                      y   No. Observations:                   27\n",
      "Model:                            GLM   Df Residuals:                       25\n",
      "Model Family:                Gaussian   Df Model:                            1\n",
      "Link Function:               identity   Scale:                          415.61\n",
      "Method:                          IRLS   Log-Likelihood:                -118.67\n",
      "Date:                Sat, 31 Jul 2021   Deviance:                       10390.\n",
      "Time:                        10:42:31   Pearson chi2:                 1.04e+04\n",
      "No. Iterations:                     3                                         \n",
      "Covariance Type:            nonrobust                                         \n",
      "==============================================================================\n",
      "                 coef    std err          z      P>|z|      [0.025      0.975]\n",
      "------------------------------------------------------------------------------\n",
      "x1            -1.8621      0.754     -2.468      0.014      -3.341      -0.383\n",
      "x2             1.9679      0.299      6.589      0.000       1.383       2.553\n",
      "==============================================================================\n"
     ]
    },
    {
     "data": {
      "text/plain": [
       "(array([1., 0., 0., 0., 0., 1., 1., 0., 3., 2., 1., 3., 0., 2., 2., 2., 3.,\n",
       "        1., 0., 0., 0., 2., 0., 1., 2.]),\n",
       " array([-2.3251466 , -2.15695914, -1.98877168, -1.82058421, -1.65239675,\n",
       "        -1.48420929, -1.31602182, -1.14783436, -0.9796469 , -0.81145943,\n",
       "        -0.64327197, -0.47508451, -0.30689704, -0.13870958,  0.02947789,\n",
       "         0.19766535,  0.36585281,  0.53404028,  0.70222774,  0.8704152 ,\n",
       "         1.03860267,  1.20679013,  1.37497759,  1.54316506,  1.71135252,\n",
       "         1.87953998]),\n",
       " <BarContainer object of 25 artists>)"
      ]
     },
     "execution_count": 11,
     "metadata": {},
     "output_type": "execute_result"
    },
    {
     "data": {
      "image/png": "[encoded data removed]",
      "text/plain": [
       "<Figure size 720x360 with 1 Axes>"
      ]
     },
     "metadata": {
      "needs_background": "light"
     },
     "output_type": "display_data"
    },
    {
     "data": {
      "image/png": "[encoded data removed]",
      "text/plain": [
       "<Figure size 720x360 with 1 Axes>"
      ]
     },
     "metadata": {
      "needs_background": "light"
     },
     "output_type": "display_data"
    }
   ],
   "source": [
    "exog = np.array(df[\"watts\"])\n",
    "exog = np.expand_dims(exog, axis=-1)\n",
    "endog = np.array(df[[\"lauko_temp_patikslinta\", \"wind_kph\"]])\n",
    "\n",
    "distribution = sm.families.Gaussian(sm.families.links.log())\n",
    "glm_Normal = sm.GLM(exog, endog, fmaily=distribution)\n",
    "glm_results=glm_Normal.fit()\n",
    "print(glm_results.summary())\n",
    "\n",
    "yhat = glm_results.mu\n",
    "from statsmodels.graphics.api import abline_plot\n",
    "fig, ax = plt.subplots()\n",
    "ax.scatter(yhat, glm_results.resid_pearson)\n",
    "ax.hlines(0, 25, 45)\n",
    "ax.set_xlim(25, 45)\n",
    "\n",
    "from scipy import stats\n",
    "fig, ax = plt.subplots()\n",
    "resid = glm_results.resid_deviance.copy()\n",
    "resid_std = stats.zscore(resid)\n",
    "ax.hist(resid_std, bins=25)\n"
   ]
  },
  {
   "cell_type": "markdown",
   "id": "swedish-sleeve",
   "metadata": {},
   "source": [
    "## LM"
   ]
  },
  {
   "cell_type": "code",
   "execution_count": 1,
   "id": "grand-reason",
   "metadata": {},
   "outputs": [
    {
     "name": "stderr",
     "output_type": "stream",
     "text": [
      "C:\\Users\\SVEDU\\anaconda3\\lib\\site-packages\\ipykernel\\ipkernel.py:287: DeprecationWarning: `should_run_async` will not call `transform_cell` automatically in the future. Please pass the result to `transformed_cell` argument and any exception that happen during thetransform in `preprocessing_exc_tuple` in IPython 7.17 and above.\n",
      "  and should_run_async(code)\n",
      "C:\\Users\\SVEDU\\anaconda3\\lib\\site-packages\\patsy\\constraint.py:13: DeprecationWarning: Using or importing the ABCs from 'collections' instead of from 'collections.abc' is deprecated since Python 3.3, and in 3.9 it will stop working\n",
      "  from collections import Mapping\n"
     ]
    }
   ],
   "source": [
    "import numpy as np\n",
    "import pandas as pd\n",
    "import matplotlib.pyplot as plt\n",
    "\n",
    "import statsmodels.api as sm\n",
    "from statsmodels.sandbox.regression.predstd import wls_prediction_std"
   ]
  },
  {
   "cell_type": "code",
   "execution_count": 14,
   "id": "competent-aviation",
   "metadata": {},
   "outputs": [
    {
     "name": "stdout",
     "output_type": "stream",
     "text": [
      "                                 OLS Regression Results                                \n",
      "=======================================================================================\n",
      "Dep. Variable:                      y   R-squared (uncentered):                   0.730\n",
      "Model:                            OLS   Adj. R-squared (uncentered):              0.709\n",
      "Method:                 Least Squares   F-statistic:                              33.84\n",
      "Date:                Sat, 31 Jul 2021   Prob (F-statistic):                    7.70e-08\n",
      "Time:                        10:47:09   Log-Likelihood:                         -118.67\n",
      "No. Observations:                  27   AIC:                                      241.3\n",
      "Df Residuals:                      25   BIC:                                      243.9\n",
      "Df Model:                           2                                                  \n",
      "Covariance Type:            nonrobust                                                  \n",
      "==============================================================================\n",
      "                 coef    std err          t      P>|t|      [0.025      0.975]\n",
      "------------------------------------------------------------------------------\n",
      "x1            -1.8621      0.754     -2.468      0.021      -3.416      -0.308\n",
      "x2             1.9679      0.299      6.589      0.000       1.353       2.583\n",
      "==============================================================================\n",
      "Omnibus:                        0.035   Durbin-Watson:                   1.775\n",
      "Prob(Omnibus):                  0.983   Jarque-Bera (JB):                0.086\n",
      "Skew:                           0.041   Prob(JB):                        0.958\n",
      "Kurtosis:                       2.736   Cond. No.                         2.73\n",
      "==============================================================================\n",
      "\n",
      "Notes:\n",
      "[1] R² is computed without centering (uncentered) since the model does not contain a constant.\n",
      "[2] Standard Errors assume that the covariance matrix of the errors is correctly specified.\n"
     ]
    }
   ],
   "source": [
    "\n",
    "y = np.array(df[\"watts\"])\n",
    "X = np.array(df[[\"lauko_temp_patikslinta\", \"wind_kph\"]])\n",
    "#exog = np.expand_dims(exog, axis=-1)\n",
    "\n",
    "LM_model = sm.OLS(y,X)\n",
    "LM_results=LM_model.fit()\n",
    "print(results.summary())"
   ]
  },
  {
   "cell_type": "code",
   "execution_count": null,
   "id": "loved-animal",
   "metadata": {},
   "outputs": [],
   "source": []
  }
 ],
 "metadata": {
  "kernelspec": {
   "display_name": "NewKedroProject",
   "language": "python",
   "name": "python3"
  },
  "language_info": {
   "codemirror_mode": {
    "name": "ipython",
    "version": 3
   },
   "file_extension": ".py",
   "mimetype": "text/x-python",
   "name": "python",
   "nbconvert_exporter": "python",
   "pygments_lexer": "ipython3",
   "version": "3.8.5"
  },
  "toc": {
   "base_numbering": 1,
   "nav_menu": {},
   "number_sections": false,
   "sideBar": true,
   "skip_h1_title": false,
   "title_cell": "Table of Contents",
   "title_sidebar": "Contents",
   "toc_cell": false,
   "toc_position": {},
   "toc_section_display": false,
   "toc_window_display": false
  }
 },
 "nbformat": 4,
 "nbformat_minor": 5
}
